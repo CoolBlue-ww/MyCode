{
 "cells": [
  {
   "cell_type": "code",
   "id": "initial_id",
   "metadata": {
    "collapsed": true,
    "ExecuteTime": {
     "end_time": "2025-06-04T04:22:20.872373Z",
     "start_time": "2025-06-04T04:22:14.254980Z"
    }
   },
   "source": [
    "import os\n",
    "import torch\n",
    "from torch import nn\n",
    "from torch.utils.data import DataLoader\n",
    "from torchvision import datasets, transforms\n",
    "\n",
    "# accelerator 加速装置\n",
    "# available 可利用的\n",
    "device = torch.accelerator.current_accelerator().type if torch.accelerator.is_available() else \"cpu\"\n",
    "\n",
    "print(f\"Using {device} device\")\n",
    "print(torch.accelerator.is_available())\n"
   ],
   "outputs": [
    {
     "name": "stdout",
     "output_type": "stream",
     "text": [
      "Using cpu device\n",
      "False\n"
     ]
    }
   ],
   "execution_count": 2
  },
  {
   "metadata": {},
   "cell_type": "markdown",
   "source": "验证设备是否存在加速装置，如果存在就利用他否则则使用CPU。",
   "id": "5a1b1817958d6137"
  },
  {
   "metadata": {
    "ExecuteTime": {
     "end_time": "2025-06-04T04:22:24.978664Z",
     "start_time": "2025-06-04T04:22:24.935339Z"
    }
   },
   "cell_type": "code",
   "source": [
    "# neural 神经的\n",
    "# network 网络\n",
    "\n",
    "class NeuralNetwork(nn.Module):\n",
    "    def __init__(self):\n",
    "        super().__init__()\n",
    "        self.flatten = nn.Flatten()  # 使平坦\n",
    "        self.linear_relu_stack = nn.Sequential(  # 直线的， 激活函数， 堆叠， 按次序的\n",
    "            nn.Linear(28 * 28, 512),\n",
    "            nn.ReLU(),\n",
    "            nn.Linear(512, 512),\n",
    "            nn.ReLU(),\n",
    "            nn.Linear(512, 10),\n",
    "        )\n",
    "\n",
    "    def forward(self, x):\n",
    "        x = self.flatten(x)\n",
    "        logits = self.linear_relu_stack(x)\n",
    "        return logits\n",
    "\n",
    "\n",
    "model = NeuralNetwork().to(device)\n",
    "print(model)\n"
   ],
   "id": "7b9f8132d113c4b0",
   "outputs": [
    {
     "name": "stdout",
     "output_type": "stream",
     "text": [
      "NeuralNetwork(\n",
      "  (flatten): Flatten(start_dim=1, end_dim=-1)\n",
      "  (linear_relu_stack): Sequential(\n",
      "    (0): Linear(in_features=784, out_features=512, bias=True)\n",
      "    (1): ReLU()\n",
      "    (2): Linear(in_features=512, out_features=512, bias=True)\n",
      "    (3): ReLU()\n",
      "    (4): Linear(in_features=512, out_features=10, bias=True)\n",
      "  )\n",
      ")\n"
     ]
    }
   ],
   "execution_count": 3
  },
  {
   "metadata": {
    "ExecuteTime": {
     "end_time": "2025-06-04T04:59:25.233469Z",
     "start_time": "2025-06-04T04:59:25.051118Z"
    }
   },
   "cell_type": "code",
   "source": [
    "X = torch.rand(1, 28, 28, device=device)\n",
    "logits = model(X)\n",
    "pred_probab = nn.Softmax(dim=1)(logits)\n",
    "y_pred = pred_probab.argmax(1)\n",
    "print(f\"Predicted class: {y_pred}\")\n"
   ],
   "id": "5aec7005828dac01",
   "outputs": [
    {
     "name": "stdout",
     "output_type": "stream",
     "text": [
      "Predicted class: tensor([4])\n"
     ]
    }
   ],
   "execution_count": 9
  },
  {
   "metadata": {},
   "cell_type": "markdown",
   "source": "将图片张量输入模型，模型输出一个二维张量。每一行表示一个批次内不同的样本，每一列表示不同的类别。从每一行中选出概率最大的那个类别。也就是模型的预测结果。",
   "id": "1a6a4783d6c9f083"
  },
  {
   "metadata": {
    "ExecuteTime": {
     "end_time": "2025-06-04T08:48:13.597556Z",
     "start_time": "2025-06-04T08:48:13.544848Z"
    }
   },
   "cell_type": "code",
   "source": [
    "# 模型曾\n",
    "\n",
    "input_image = torch.rand(3, 28, 28)\n",
    "print(input_image.size())\n"
   ],
   "id": "c6d9229d65d6e598",
   "outputs": [
    {
     "name": "stdout",
     "output_type": "stream",
     "text": [
      "torch.Size([3, 28, 28])\n"
     ]
    }
   ],
   "execution_count": 11
  },
  {
   "metadata": {
    "ExecuteTime": {
     "end_time": "2025-06-04T09:33:33.984037Z",
     "start_time": "2025-06-04T09:33:33.960527Z"
    }
   },
   "cell_type": "code",
   "source": [
    "# 利用nn.Flatten扁平化展开除每一批次的样本的张量。\n",
    "\n",
    "flatten = nn.Flatten()\n",
    "flat_image = flatten(input_image)\n",
    "print(flat_image.size())  # 展开后的形状 [3, 748]\n",
    "\n",
    "print(\"-\" * 70)\n",
    "\n",
    "tensor = torch.tensor([\n",
    "    [\n",
    "        [\n",
    "            [0, 0, 255],\n",
    "            [0, 255, 255],\n",
    "            [255, 0, 255],\n",
    "        ],\n",
    "        [\n",
    "            [0, 255, 0],\n",
    "            [255, 0, 255],\n",
    "            [255, 255, 255]\n",
    "        ],\n",
    "        [\n",
    "            [1, 5, 5],\n",
    "            [3, 4, 7],\n",
    "            [7, 8, 10]\n",
    "        ]\n",
    "    ],\n",
    "    [\n",
    "        [\n",
    "            [255, 0, 100],\n",
    "            [150, 255, 190],\n",
    "            [100, 30, 255],\n",
    "        ],\n",
    "        [\n",
    "            [2, 4, 5],\n",
    "            [255, 150, 155],\n",
    "            [190, 155, 255]\n",
    "        ],\n",
    "        [\n",
    "            [2, 4, 7],\n",
    "            [4, 7, 8],\n",
    "            [255, 250, 200]\n",
    "        ]\n",
    "    ],\n",
    "    [\n",
    "        [\n",
    "            [12, 155, 255],\n",
    "            [255, 255, 255],\n",
    "            [150, 150, 70]\n",
    "        ],\n",
    "        [\n",
    "            [240, 255, 100],\n",
    "            [10, 20, 30],\n",
    "            [255, 255, 255]\n",
    "        ],\n",
    "        [\n",
    "            [255, 255, 255],\n",
    "            [250, 250, 250],\n",
    "            [150, 250, 245]\n",
    "        ]\n",
    "    ]\n",
    "])\n",
    "\n",
    "print(tensor.size())\n",
    "flat_tensor = flatten(tensor)\n",
    "print(flat_tensor.size())\n",
    "print()\n",
    "print(flat_tensor)\n",
    "\n"
   ],
   "id": "1f4e6d16037fbac",
   "outputs": [
    {
     "name": "stdout",
     "output_type": "stream",
     "text": [
      "torch.Size([3, 784])\n",
      "----------------------------------------------------------------------\n",
      "torch.Size([3, 3, 3, 3])\n",
      "torch.Size([3, 27])\n",
      "\n",
      "tensor([[  0,   0, 255,   0, 255, 255, 255,   0, 255,   0, 255,   0, 255,   0,\n",
      "         255, 255, 255, 255,   1,   5,   5,   3,   4,   7,   7,   8,  10],\n",
      "        [255,   0, 100, 150, 255, 190, 100,  30, 255,   2,   4,   5, 255, 150,\n",
      "         155, 190, 155, 255,   2,   4,   7,   4,   7,   8, 255, 250, 200],\n",
      "        [ 12, 155, 255, 255, 255, 255, 150, 150,  70, 240, 255, 100,  10,  20,\n",
      "          30, 255, 255, 255, 255, 255, 255, 250, 250, 250, 150, 250, 245]])\n"
     ]
    }
   ],
   "execution_count": 35
  },
  {
   "metadata": {},
   "cell_type": "markdown",
   "source": [
    "通过Flatten将高维的张量进行展平，但是批次通道不变。\n",
    "方法： from torch import nn flatten = nn.Flatten(), 然后输入图片张量进行展开 flat_image = flatten(input_image)."
   ],
   "id": "f0c23dbe13a4fbd4"
  },
  {
   "metadata": {
    "ExecuteTime": {
     "end_time": "2025-06-04T09:33:37.314614Z",
     "start_time": "2025-06-04T09:33:37.296721Z"
    }
   },
   "cell_type": "code",
   "source": [
    "# nn.Linear  线性\n",
    "layer1 = nn.Linear(in_features=28*28, out_features=20)\n",
    "hidden1 = layer1(flat_image)\n",
    "print(hidden1.size())\n"
   ],
   "id": "8b9372e4fcdc196d",
   "outputs": [
    {
     "name": "stdout",
     "output_type": "stream",
     "text": [
      "torch.Size([3, 20])\n"
     ]
    }
   ],
   "execution_count": 36
  },
  {
   "metadata": {},
   "cell_type": "markdown",
   "source": "对展开的张量进行线性变换。in_features 和 out_features 参数分别代表输入全连接层的元素数量，也就是展开之后每个样本的一维张量里的元素数量。",
   "id": "60bbccb4a7ea83e8"
  },
  {
   "metadata": {
    "ExecuteTime": {
     "end_time": "2025-06-04T09:33:39.390518Z",
     "start_time": "2025-06-04T09:33:39.290701Z"
    }
   },
   "cell_type": "code",
   "source": [
    "# nn.ReLU  激活函数\n",
    "\n",
    "print(f\"Before ReLU: {hidden1}\\n\\n\")\n",
    "hidden1 = nn.ReLU(hidden1)\n",
    "print(f\"After ReLU: {hidden1}\")\n",
    "\n"
   ],
   "id": "419981026a9fed59",
   "outputs": [
    {
     "name": "stdout",
     "output_type": "stream",
     "text": [
      "Before ReLU: tensor([[ 0.2243,  0.2623, -0.2424, -0.1337,  0.3282,  0.1164,  0.2405, -0.4279,\n",
      "         -0.0632,  0.1972, -0.5300, -0.4372, -0.0975, -0.5016, -0.2576, -0.2612,\n",
      "          0.1572, -0.4781,  0.5032,  0.0940],\n",
      "        [-0.0807, -0.0910,  0.0224, -0.1962,  0.1052,  0.3374,  0.1149, -0.2441,\n",
      "          0.2381,  0.1248, -0.1424, -0.4403,  0.2714,  0.0318, -0.4273, -0.2490,\n",
      "          0.6695, -0.4543, -0.1088, -0.3009],\n",
      "        [ 0.0903,  0.1500,  0.0014, -0.1499,  0.0213,  0.6564,  0.1761, -0.0669,\n",
      "          0.2026,  0.2525,  0.0395, -0.3136, -0.0528,  0.0408, -0.2764, -0.1258,\n",
      "          0.4835, -0.4795,  0.0207, -0.1260]], grad_fn=<AddmmBackward0>)\n",
      "\n",
      "\n"
     ]
    },
    {
     "ename": "RuntimeError",
     "evalue": "Boolean value of Tensor with more than one value is ambiguous",
     "output_type": "error",
     "traceback": [
      "\u001B[31m---------------------------------------------------------------------------\u001B[39m",
      "\u001B[31mRuntimeError\u001B[39m                              Traceback (most recent call last)",
      "\u001B[36mCell\u001B[39m\u001B[36m \u001B[39m\u001B[32mIn[37]\u001B[39m\u001B[32m, line 5\u001B[39m\n\u001B[32m      3\u001B[39m \u001B[38;5;28mprint\u001B[39m(\u001B[33mf\u001B[39m\u001B[33m\"\u001B[39m\u001B[33mBefore ReLU: \u001B[39m\u001B[38;5;132;01m{\u001B[39;00mhidden1\u001B[38;5;132;01m}\u001B[39;00m\u001B[38;5;130;01m\\n\u001B[39;00m\u001B[38;5;130;01m\\n\u001B[39;00m\u001B[33m\"\u001B[39m)\n\u001B[32m      4\u001B[39m hidden1 = nn.ReLU(hidden1)\n\u001B[32m----> \u001B[39m\u001B[32m5\u001B[39m \u001B[38;5;28mprint\u001B[39m(\u001B[33mf\u001B[39m\u001B[33m\"\u001B[39m\u001B[33mAfter ReLU: \u001B[39m\u001B[38;5;132;43;01m{\u001B[39;49;00m\u001B[43mhidden1\u001B[49m\u001B[38;5;132;43;01m}\u001B[39;49;00m\u001B[33m\"\u001B[39m)\n",
      "\u001B[36mFile \u001B[39m\u001B[32m~/anaconda3/envs/Hello-World/lib/python3.12/site-packages/torch/nn/modules/module.py:2946\u001B[39m, in \u001B[36mModule.__repr__\u001B[39m\u001B[34m(self)\u001B[39m\n\u001B[32m   2943\u001B[39m \u001B[38;5;28;01mdef\u001B[39;00m\u001B[38;5;250m \u001B[39m\u001B[34m__repr__\u001B[39m(\u001B[38;5;28mself\u001B[39m):\n\u001B[32m   2944\u001B[39m     \u001B[38;5;66;03m# We treat the extra repr like the sub-module, one item per line\u001B[39;00m\n\u001B[32m   2945\u001B[39m     extra_lines = []\n\u001B[32m-> \u001B[39m\u001B[32m2946\u001B[39m     extra_repr = \u001B[38;5;28;43mself\u001B[39;49m\u001B[43m.\u001B[49m\u001B[43mextra_repr\u001B[49m\u001B[43m(\u001B[49m\u001B[43m)\u001B[49m\n\u001B[32m   2947\u001B[39m     \u001B[38;5;66;03m# empty string will be split into list ['']\u001B[39;00m\n\u001B[32m   2948\u001B[39m     \u001B[38;5;28;01mif\u001B[39;00m extra_repr:\n",
      "\u001B[36mFile \u001B[39m\u001B[32m~/anaconda3/envs/Hello-World/lib/python3.12/site-packages/torch/nn/modules/activation.py:136\u001B[39m, in \u001B[36mReLU.extra_repr\u001B[39m\u001B[34m(self)\u001B[39m\n\u001B[32m    135\u001B[39m \u001B[38;5;28;01mdef\u001B[39;00m\u001B[38;5;250m \u001B[39m\u001B[34mextra_repr\u001B[39m(\u001B[38;5;28mself\u001B[39m) -> \u001B[38;5;28mstr\u001B[39m:\n\u001B[32m--> \u001B[39m\u001B[32m136\u001B[39m     inplace_str = \u001B[33m\"\u001B[39m\u001B[33minplace=True\u001B[39m\u001B[33m\"\u001B[39m \u001B[38;5;28;01mif\u001B[39;00m \u001B[38;5;28mself\u001B[39m.inplace \u001B[38;5;28;01melse\u001B[39;00m \u001B[33m\"\u001B[39m\u001B[33m\"\u001B[39m\n\u001B[32m    137\u001B[39m     \u001B[38;5;28;01mreturn\u001B[39;00m inplace_str\n",
      "\u001B[31mRuntimeError\u001B[39m: Boolean value of Tensor with more than one value is ambiguous"
     ]
    }
   ],
   "execution_count": 37
  },
  {
   "metadata": {},
   "cell_type": "markdown",
   "source": [
    "通过激活函数引入非线性映射，让神经网络学习到各种各样通用的特征，而非记住参数和顺序。\n",
    "方法： out = nn.ReLU(Linear_in)"
   ],
   "id": "2e15ad1590df2ee3"
  },
  {
   "metadata": {},
   "cell_type": "code",
   "outputs": [],
   "execution_count": null,
   "source": "",
   "id": "65ac127c648a7127"
  }
 ],
 "metadata": {
  "kernelspec": {
   "display_name": "Python 3",
   "language": "python",
   "name": "python3"
  },
  "language_info": {
   "codemirror_mode": {
    "name": "ipython",
    "version": 2
   },
   "file_extension": ".py",
   "mimetype": "text/x-python",
   "name": "python",
   "nbconvert_exporter": "python",
   "pygments_lexer": "ipython2",
   "version": "2.7.6"
  }
 },
 "nbformat": 4,
 "nbformat_minor": 5
}
