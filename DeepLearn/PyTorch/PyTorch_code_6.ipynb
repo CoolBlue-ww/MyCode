{
 "cells": [
  {
   "cell_type": "code",
   "id": "initial_id",
   "metadata": {
    "collapsed": true,
    "ExecuteTime": {
     "end_time": "2025-06-05T06:03:52.263421Z",
     "start_time": "2025-06-05T06:03:52.243791Z"
    }
   },
   "source": [
    "import torch\n",
    "# 自动微分\n",
    "\n",
    "x = torch.ones(5)\n",
    "y = torch.zeros(3)\n",
    "w = torch.randn(5, 3, requires_grad=True)\n",
    "b = torch.randn(3, requires_grad=True)\n",
    "z = torch.matmul(x, w) + b\n",
    "loss = torch.nn.functional.binary_cross_entropy_with_logits(z, y)\n",
    "\n",
    "\n",
    "print(x)\n",
    "print(\"-\" * 70)\n",
    "print(y)\n",
    "print(\"-\" * 70)\n",
    "print(w)\n",
    "print(\"-\" * 70)\n",
    "print(b)\n",
    "print(\"-\" * 70)\n",
    "print(torch.matmul(x, w))\n",
    "print(\"-\" * 70)\n",
    "print(z)\n",
    "print(\"-\" * 70)\n",
    "print(loss)\n"
   ],
   "outputs": [
    {
     "name": "stdout",
     "output_type": "stream",
     "text": [
      "tensor([1., 1., 1., 1., 1.])\n",
      "----------------------------------------------------------------------\n",
      "tensor([0., 0., 0.])\n",
      "----------------------------------------------------------------------\n",
      "tensor([[ 0.3280,  0.9689, -0.2634],\n",
      "        [-0.6741, -2.4512, -0.7641],\n",
      "        [-0.8769,  0.5888,  1.6131],\n",
      "        [ 1.1363,  0.9397,  0.9337],\n",
      "        [-0.2306,  0.2625,  0.5029]], requires_grad=True)\n",
      "----------------------------------------------------------------------\n",
      "tensor([ 0.6591, -0.8377, -0.5850], requires_grad=True)\n",
      "----------------------------------------------------------------------\n",
      "tensor([-0.3173,  0.3089,  2.0222], grad_fn=<SqueezeBackward4>)\n",
      "----------------------------------------------------------------------\n",
      "tensor([ 0.3418, -0.5288,  1.4372], grad_fn=<AddBackward0>)\n",
      "----------------------------------------------------------------------\n",
      "tensor(0.9974, grad_fn=<BinaryCrossEntropyWithLogitsBackward0>)\n"
     ]
    }
   ],
   "execution_count": 12
  },
  {
   "metadata": {
    "ExecuteTime": {
     "end_time": "2025-06-05T05:45:50.772394Z",
     "start_time": "2025-06-05T05:45:48.686544Z"
    }
   },
   "cell_type": "code",
   "source": [
    "t = torch.tensor([\n",
    "    [1, 2],\n",
    "    [1, 2]\n",
    "], dtype=torch.float)\n",
    "\n",
    "t_ = torch.tensor([\n",
    "    [1, 2],\n",
    "    [1, 2]\n",
    "], requires_grad=True, dtype=torch.float)\n",
    "\n",
    "print(f\"普通张量： \\n{t}\")\n",
    "print(\"-\" * 70)\n",
    "print(f\"自动微分张量: \\n{t_}\")\n",
    "\n",
    "from torchvision.io import read_image\n",
    "\n",
    "\n",
    "print(read_image(\"/home/SayMyName/桌面/GitHub/MyCode/DeepLearn/PyTorch/PyTorch_code_3_image_dir/test1_cat.jpg\"))\n",
    "\n"
   ],
   "id": "bd8f91f39fafb03d",
   "outputs": [
    {
     "name": "stdout",
     "output_type": "stream",
     "text": [
      "普通张量： \n",
      "tensor([[1., 2.],\n",
      "        [1., 2.]])\n",
      "----------------------------------------------------------------------\n",
      "自动微分张量: \n",
      "tensor([[1., 2.],\n",
      "        [1., 2.]], requires_grad=True)\n",
      "tensor([[[163, 163, 163,  ..., 174, 174, 175],\n",
      "         [162, 162, 163,  ..., 173, 173, 174],\n",
      "         [161, 162, 162,  ..., 172, 172, 173],\n",
      "         ...,\n",
      "         [140, 140, 141,  ...,  71,  70,  70],\n",
      "         [140, 141, 143,  ...,  72,  71,  70],\n",
      "         [143, 140, 138,  ...,  71,  71,  71]],\n",
      "\n",
      "        [[169, 169, 169,  ..., 181, 181, 182],\n",
      "         [168, 168, 169,  ..., 180, 180, 181],\n",
      "         [167, 168, 168,  ..., 179, 179, 180],\n",
      "         ...,\n",
      "         [144, 144, 145,  ...,  39,  38,  38],\n",
      "         [143, 145, 146,  ...,  40,  39,  38],\n",
      "         [146, 143, 141,  ...,  39,  39,  39]],\n",
      "\n",
      "        [[181, 181, 181,  ..., 191, 191, 192],\n",
      "         [180, 180, 181,  ..., 190, 190, 191],\n",
      "         [179, 180, 180,  ..., 189, 189, 190],\n",
      "         ...,\n",
      "         [147, 147, 148,  ...,   1,   0,   0],\n",
      "         [148, 148, 151,  ...,   2,   1,   0],\n",
      "         [153, 148, 148,  ...,   1,   1,   1]]], dtype=torch.uint8)\n"
     ]
    }
   ],
   "execution_count": 5
  },
  {
   "metadata": {},
   "cell_type": "markdown",
   "source": "",
   "id": "2de7db4d0b8bfaa1"
  }
 ],
 "metadata": {
  "kernelspec": {
   "display_name": "Python 3",
   "language": "python",
   "name": "python3"
  },
  "language_info": {
   "codemirror_mode": {
    "name": "ipython",
    "version": 2
   },
   "file_extension": ".py",
   "mimetype": "text/x-python",
   "name": "python",
   "nbconvert_exporter": "python",
   "pygments_lexer": "ipython2",
   "version": "2.7.6"
  }
 },
 "nbformat": 4,
 "nbformat_minor": 5
}
