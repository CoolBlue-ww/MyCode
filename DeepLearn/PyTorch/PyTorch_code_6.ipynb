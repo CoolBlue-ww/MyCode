{
 "cells": [
  {
   "cell_type": "code",
   "id": "initial_id",
   "metadata": {
    "collapsed": true,
    "ExecuteTime": {
     "end_time": "2025-06-05T12:06:50.133728Z",
     "start_time": "2025-06-05T12:06:50.067069Z"
    }
   },
   "source": [
    "import torch\n",
    "# 自动微分\n",
    "\n",
    "x = torch.ones(5)\n",
    "y = torch.zeros(3)\n",
    "w = torch.randn(5, 3, requires_grad=True)\n",
    "b = torch.randn(3, requires_grad=True)\n",
    "z = torch.matmul(x, w) + b\n",
    "loss = torch.nn.functional.binary_cross_entropy_with_logits(z, y)\n",
    "\n",
    "\n",
    "print(x)\n",
    "print(\"-\" * 70)\n",
    "print(y)\n",
    "print(\"-\" * 70)\n",
    "print(w)\n",
    "print(\"-\" * 70)\n",
    "print(b)\n",
    "print(\"-\" * 70)\n",
    "print(torch.matmul(x, w))\n",
    "print(\"-\" * 70)\n",
    "print(z)\n",
    "print(\"-\" * 70)\n",
    "print(loss)\n",
    "\n",
    "print(\"z的梯度函数：\")\n",
    "print(f\"Gradient Function for z: {z.grad_fn}\")\n",
    "print(\"-\" * 70)\n",
    "print(\"loss的梯度函数：\")\n",
    "print(f\"Gradient Function for loss: {loss.grad_fn}\")\n",
    "\n",
    "print(\"-\" * 70 + \"\\n\")\n",
    "\n",
    "# 反向传播\n",
    "loss.backward()\n",
    "print(\"反向传播后，权重的梯度：\")\n",
    "print(w.grad)\n",
    "print(\"-\" * 70)\n",
    "print(\"反向传播后，偏置的梯度：\")\n",
    "print(b.grad)\n",
    "\n",
    "\n",
    "print(\"-\" * 70)\n",
    "\n",
    "# 禁止渐变跟踪\n",
    "z = torch.matmul(x, w) + b\n",
    "print(z)  # 有梯度函数，会在反向传播时计算梯度。\n",
    "print(\"-\" * 70)\n",
    "with torch.no_grad():\n",
    "    z = torch.matmul(x, w) + b\n",
    "    print(z)  # 没有梯度函数，反向传播后不会发生改变。\n",
    "\n",
    "# 禁用渐变跟踪的另一种方法\n",
    "z = torch.matmul(x, w) + b\n",
    "z_det = torch.detach(z)\n",
    "\"\"\"打印是否开启自动微分\"\"\"\n",
    "print(z_det.requires_grad)\n",
    "\n",
    "\n",
    "\n"
   ],
   "outputs": [
    {
     "name": "stdout",
     "output_type": "stream",
     "text": [
      "tensor([1., 1., 1., 1., 1.])\n",
      "----------------------------------------------------------------------\n",
      "tensor([0., 0., 0.])\n",
      "----------------------------------------------------------------------\n",
      "tensor([[ 2.7350,  0.8508, -0.3389],\n",
      "        [ 0.3362, -0.5206,  0.5923],\n",
      "        [-2.8467,  0.3082,  1.0897],\n",
      "        [-1.0334,  0.1714, -0.3709],\n",
      "        [-0.2140, -0.3185,  0.5474]], requires_grad=True)\n",
      "----------------------------------------------------------------------\n",
      "tensor([-0.2412, -1.3444,  1.4236], requires_grad=True)\n",
      "----------------------------------------------------------------------\n",
      "tensor([-1.0229,  0.4913,  1.5195], grad_fn=<SqueezeBackward4>)\n",
      "----------------------------------------------------------------------\n",
      "tensor([-1.2641, -0.8531,  2.9431], grad_fn=<AddBackward0>)\n",
      "----------------------------------------------------------------------\n",
      "tensor(1.1994, grad_fn=<BinaryCrossEntropyWithLogitsBackward0>)\n",
      "z的梯度函数：\n",
      "Gradient Function for z: <AddBackward0 object at 0x7ebcc8b2f1c0>\n",
      "----------------------------------------------------------------------\n",
      "loss的梯度函数：\n",
      "Gradient Function for loss: <BinaryCrossEntropyWithLogitsBackward0 object at 0x7ebcc8b2f1c0>\n",
      "----------------------------------------------------------------------\n",
      "\n",
      "反向传播后，权重的梯度：\n",
      "tensor([[0.0734, 0.0996, 0.3166],\n",
      "        [0.0734, 0.0996, 0.3166],\n",
      "        [0.0734, 0.0996, 0.3166],\n",
      "        [0.0734, 0.0996, 0.3166],\n",
      "        [0.0734, 0.0996, 0.3166]])\n",
      "----------------------------------------------------------------------\n",
      "反向传播后，偏置的梯度：\n",
      "tensor([0.0734, 0.0996, 0.3166])\n",
      "----------------------------------------------------------------------\n",
      "tensor([-1.2641, -0.8531,  2.9431], grad_fn=<AddBackward0>)\n",
      "----------------------------------------------------------------------\n",
      "tensor([-1.2641, -0.8531,  2.9431])\n",
      "False\n"
     ]
    }
   ],
   "execution_count": 24
  },
  {
   "metadata": {
    "ExecuteTime": {
     "end_time": "2025-06-05T11:05:13.575073Z",
     "start_time": "2025-06-05T11:05:10.097357Z"
    }
   },
   "cell_type": "code",
   "source": [
    "t = torch.tensor([\n",
    "    [1, 2],\n",
    "    [1, 2]\n",
    "], dtype=torch.float)\n",
    "\n",
    "t_ = torch.tensor([\n",
    "    [1, 2],\n",
    "    [1, 2]\n",
    "], requires_grad=True, dtype=torch.float)\n",
    "\n",
    "print(f\"普通张量： \\n{t}\")\n",
    "print(\"-\" * 70)\n",
    "print(f\"自动微分张量: \\n{t_}\")\n",
    "\n",
    "from torchvision.io import read_image\n",
    "\n",
    "\n",
    "print(read_image(\"/home/SayMyName/桌面/GitHub/MyCode/DeepLearn/PyTorch/PyTorch_code_3_image_dir/test1_cat.jpg\"))\n",
    "\n"
   ],
   "id": "bd8f91f39fafb03d",
   "outputs": [
    {
     "name": "stdout",
     "output_type": "stream",
     "text": [
      "普通张量： \n",
      "tensor([[1., 2.],\n",
      "        [1., 2.]])\n",
      "----------------------------------------------------------------------\n",
      "自动微分张量: \n",
      "tensor([[1., 2.],\n",
      "        [1., 2.]], requires_grad=True)\n",
      "tensor([[[163, 163, 163,  ..., 174, 174, 175],\n",
      "         [162, 162, 163,  ..., 173, 173, 174],\n",
      "         [161, 162, 162,  ..., 172, 172, 173],\n",
      "         ...,\n",
      "         [140, 140, 141,  ...,  71,  70,  70],\n",
      "         [140, 141, 143,  ...,  72,  71,  70],\n",
      "         [143, 140, 138,  ...,  71,  71,  71]],\n",
      "\n",
      "        [[169, 169, 169,  ..., 181, 181, 182],\n",
      "         [168, 168, 169,  ..., 180, 180, 181],\n",
      "         [167, 168, 168,  ..., 179, 179, 180],\n",
      "         ...,\n",
      "         [144, 144, 145,  ...,  39,  38,  38],\n",
      "         [143, 145, 146,  ...,  40,  39,  38],\n",
      "         [146, 143, 141,  ...,  39,  39,  39]],\n",
      "\n",
      "        [[181, 181, 181,  ..., 191, 191, 192],\n",
      "         [180, 180, 181,  ..., 190, 190, 191],\n",
      "         [179, 180, 180,  ..., 189, 189, 190],\n",
      "         ...,\n",
      "         [147, 147, 148,  ...,   1,   0,   0],\n",
      "         [148, 148, 151,  ...,   2,   1,   0],\n",
      "         [153, 148, 148,  ...,   1,   1,   1]]], dtype=torch.uint8)\n"
     ]
    }
   ],
   "execution_count": 2
  },
  {
   "metadata": {},
   "cell_type": "markdown",
   "source": [
    "开启了requires_grad的张量会记入梯度的计算，从而可以反向传播优化参数。对loss使用backward ()方法进行反向传播更新参数\n",
    "公式： 新参数 = 旧参数 - 学习率 * 梯度\n",
    "开启新的一轮训练前要清除梯度。\n",
    "在向前传播或者推理时冻结参数可以使用 torch.no_grad 或者 torch.detach(z)."
   ],
   "id": "2de7db4d0b8bfaa1"
  }
 ],
 "metadata": {
  "kernelspec": {
   "display_name": "Python 3",
   "language": "python",
   "name": "python3"
  },
  "language_info": {
   "codemirror_mode": {
    "name": "ipython",
    "version": 2
   },
   "file_extension": ".py",
   "mimetype": "text/x-python",
   "name": "python",
   "nbconvert_exporter": "python",
   "pygments_lexer": "ipython2",
   "version": "2.7.6"
  }
 },
 "nbformat": 4,
 "nbformat_minor": 5
}
